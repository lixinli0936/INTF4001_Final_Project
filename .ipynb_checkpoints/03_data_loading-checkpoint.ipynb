{
 "cells": [
  {
   "cell_type": "code",
   "execution_count": 1,
   "id": "d6b095b1-4b7c-40a0-b097-c4298d51ecf4",
   "metadata": {},
   "outputs": [
    {
     "name": "stdout",
     "output_type": "stream",
     "text": [
      "Requirement already satisfied: psycopg2 in c:\\users\\biauser\\anaconda3\\envs\\python311\\lib\\site-packages (2.9.9)\n"
     ]
    }
   ],
   "source": [
    "!pip3 install psycopg2"
   ]
  },
  {
   "cell_type": "code",
   "execution_count": 2,
   "id": "93c73515-207a-4014-8a27-428b4347b7ae",
   "metadata": {},
   "outputs": [],
   "source": [
    "import pandas as pd\n",
    "import os\n",
    "from datetime import datetime\n",
    "from sqlalchemy import create_engine\n",
    "from sqlalchemy import text\n",
    "\n",
    "user = 'postgres'\n",
    "pwd = 'postgres123'\n",
    "server = 'localhost'\n",
    "instance = ''\n",
    "port = ''\n",
    "db = 'UKAccidents'"
   ]
  },
  {
   "cell_type": "code",
   "execution_count": 3,
   "id": "2e0d642f-fe79-4d2f-801e-1cedbb8ba91b",
   "metadata": {},
   "outputs": [],
   "source": [
    "conn_string = f'postgresql+psycopg2://{user}:{pwd}@{server}/{db}'\n",
    "engine = create_engine(conn_string,isolation_level=\"AUTOCOMMIT\")\n",
    "conn=engine.connect()"
   ]
  },
  {
   "cell_type": "code",
   "execution_count": 4,
   "id": "c2d01190-bee6-41f7-8ec8-3851271d95f4",
   "metadata": {},
   "outputs": [
    {
     "data": {
      "text/plain": [
       "<sqlalchemy.engine.cursor.CursorResult at 0x1deec689fd0>"
      ]
     },
     "execution_count": 4,
     "metadata": {},
     "output_type": "execute_result"
    }
   ],
   "source": [
    "# Execute data table initialization script before storing the data in the database.\n",
    "# read SQL file\n",
    "with open('./02_data_model_script.sql', 'r') as f:\n",
    "    # Concatenate the entire file into a single string.\n",
    "    sql_script = f.read()\n",
    "\n",
    "# Execute the SQL script.\n",
    "conn.execute(text(sql_script))"
   ]
  },
  {
   "cell_type": "code",
   "execution_count": 5,
   "id": "6e2f4b1a-7727-4e93-9010-6a43ccd1fca2",
   "metadata": {},
   "outputs": [],
   "source": [
    "dimentions={'Accident': ['accident_severity', 'road_type', 'weather_conditions'],\n",
    " 'Casualty': ['casualty_class',\n",
    "  'sex_of_casualty',\n",
    "  'age_band_of_casualty',\n",
    "  'casualty_severity'],\n",
    " 'Vehicle': ['vehicle_type', 'sex_of_driver', 'age_band_of_driver']}\n",
    "facts={'Accident': ['accident_index',\n",
    "   'accident_year',\n",
    "   'longitude',\n",
    "   'latitude',\n",
    "   'accident_severity',\n",
    "   'number_of_vehicles',\n",
    "   'number_of_casualties',\n",
    "   'date',\n",
    "   'time',\n",
    "   'road_type',\n",
    "   'weather_conditions'],\n",
    "  'Casualty': ['accident_index',\n",
    "   'accident_year',\n",
    "   'vehicle_reference',\n",
    "   'casualty_reference',\n",
    "   'casualty_class',\n",
    "   'sex_of_casualty',\n",
    "   'age_of_casualty',\n",
    "   'age_band_of_casualty',\n",
    "   'casualty_severity'],\n",
    "  'Vehicle': ['accident_index',\n",
    "   'accident_year',\n",
    "   'vehicle_reference',\n",
    "   'vehicle_type',\n",
    "   'sex_of_driver',\n",
    "   'age_of_driver',\n",
    "   'age_band_of_driver',\n",
    "   'age_of_vehicle']}"
   ]
  },
  {
   "cell_type": "code",
   "execution_count": 6,
   "id": "b607de5a-e7d4-42c7-98e9-b3d884097821",
   "metadata": {},
   "outputs": [
    {
     "data": {
      "text/html": [
       "<div>\n",
       "<style scoped>\n",
       "    .dataframe tbody tr th:only-of-type {\n",
       "        vertical-align: middle;\n",
       "    }\n",
       "\n",
       "    .dataframe tbody tr th {\n",
       "        vertical-align: top;\n",
       "    }\n",
       "\n",
       "    .dataframe thead th {\n",
       "        text-align: right;\n",
       "    }\n",
       "</style>\n",
       "<table border=\"1\" class=\"dataframe\">\n",
       "  <thead>\n",
       "    <tr style=\"text-align: right;\">\n",
       "      <th></th>\n",
       "      <th>table</th>\n",
       "      <th>field name</th>\n",
       "      <th>code/format</th>\n",
       "      <th>label</th>\n",
       "      <th>note</th>\n",
       "    </tr>\n",
       "  </thead>\n",
       "  <tbody>\n",
       "    <tr>\n",
       "      <th>0</th>\n",
       "      <td>Accident</td>\n",
       "      <td>collision_index</td>\n",
       "      <td>NaN</td>\n",
       "      <td>NaN</td>\n",
       "      <td>unique value for each accident. The accident_i...</td>\n",
       "    </tr>\n",
       "    <tr>\n",
       "      <th>1</th>\n",
       "      <td>Accident</td>\n",
       "      <td>collision_year</td>\n",
       "      <td>NaN</td>\n",
       "      <td>NaN</td>\n",
       "      <td>NaN</td>\n",
       "    </tr>\n",
       "    <tr>\n",
       "      <th>2</th>\n",
       "      <td>Accident</td>\n",
       "      <td>collision_reference</td>\n",
       "      <td>NaN</td>\n",
       "      <td>NaN</td>\n",
       "      <td>In year id used by the police to reference a c...</td>\n",
       "    </tr>\n",
       "    <tr>\n",
       "      <th>3</th>\n",
       "      <td>Accident</td>\n",
       "      <td>accident_index</td>\n",
       "      <td>NaN</td>\n",
       "      <td>NaN</td>\n",
       "      <td>unique value for each accident. The accident_i...</td>\n",
       "    </tr>\n",
       "    <tr>\n",
       "      <th>4</th>\n",
       "      <td>Accident</td>\n",
       "      <td>accident_year</td>\n",
       "      <td>NaN</td>\n",
       "      <td>NaN</td>\n",
       "      <td>NaN</td>\n",
       "    </tr>\n",
       "    <tr>\n",
       "      <th>...</th>\n",
       "      <td>...</td>\n",
       "      <td>...</td>\n",
       "      <td>...</td>\n",
       "      <td>...</td>\n",
       "      <td>...</td>\n",
       "    </tr>\n",
       "    <tr>\n",
       "      <th>1762</th>\n",
       "      <td>casualty_adjustment</td>\n",
       "      <td>injury_based_severity_code</td>\n",
       "      <td>5</td>\n",
       "      <td>Slight</td>\n",
       "      <td>NaN</td>\n",
       "    </tr>\n",
       "    <tr>\n",
       "      <th>1763</th>\n",
       "      <td>casualty_adjustment</td>\n",
       "      <td>injury_based_severity_code</td>\n",
       "      <td>6</td>\n",
       "      <td>Very Serious</td>\n",
       "      <td>NaN</td>\n",
       "    </tr>\n",
       "    <tr>\n",
       "      <th>1764</th>\n",
       "      <td>casualty_adjustment</td>\n",
       "      <td>injury_based_severity_code</td>\n",
       "      <td>7</td>\n",
       "      <td>Moderately Serious</td>\n",
       "      <td>NaN</td>\n",
       "    </tr>\n",
       "    <tr>\n",
       "      <th>1765</th>\n",
       "      <td>casualty_adjustment</td>\n",
       "      <td>injury_based_severity_code</td>\n",
       "      <td>3</td>\n",
       "      <td>Less Serious</td>\n",
       "      <td>NaN</td>\n",
       "    </tr>\n",
       "    <tr>\n",
       "      <th>1766</th>\n",
       "      <td>casualty_adjustment</td>\n",
       "      <td>injury_based_severity_code</td>\n",
       "      <td>-1</td>\n",
       "      <td>Data missing or out of range</td>\n",
       "      <td>NaN</td>\n",
       "    </tr>\n",
       "  </tbody>\n",
       "</table>\n",
       "<p>1767 rows × 5 columns</p>\n",
       "</div>"
      ],
      "text/plain": [
       "                    table                  field name code/format  \\\n",
       "0                Accident             collision_index         NaN   \n",
       "1                Accident              collision_year         NaN   \n",
       "2                Accident         collision_reference         NaN   \n",
       "3                Accident              accident_index         NaN   \n",
       "4                Accident               accident_year         NaN   \n",
       "...                   ...                         ...         ...   \n",
       "1762  casualty_adjustment  injury_based_severity_code           5   \n",
       "1763  casualty_adjustment  injury_based_severity_code           6   \n",
       "1764  casualty_adjustment  injury_based_severity_code           7   \n",
       "1765  casualty_adjustment  injury_based_severity_code           3   \n",
       "1766  casualty_adjustment  injury_based_severity_code          -1   \n",
       "\n",
       "                             label  \\\n",
       "0                              NaN   \n",
       "1                              NaN   \n",
       "2                              NaN   \n",
       "3                              NaN   \n",
       "4                              NaN   \n",
       "...                            ...   \n",
       "1762                        Slight   \n",
       "1763                  Very Serious   \n",
       "1764            Moderately Serious   \n",
       "1765                  Less Serious   \n",
       "1766  Data missing or out of range   \n",
       "\n",
       "                                                   note  \n",
       "0     unique value for each accident. The accident_i...  \n",
       "1                                                   NaN  \n",
       "2     In year id used by the police to reference a c...  \n",
       "3     unique value for each accident. The accident_i...  \n",
       "4                                                   NaN  \n",
       "...                                                 ...  \n",
       "1762                                                NaN  \n",
       "1763                                                NaN  \n",
       "1764                                                NaN  \n",
       "1765                                                NaN  \n",
       "1766                                                NaN  \n",
       "\n",
       "[1767 rows x 5 columns]"
      ]
     },
     "execution_count": 6,
     "metadata": {},
     "output_type": "execute_result"
    }
   ],
   "source": [
    "dict=pd.read_excel('./data/dft-road-casualty-statistics-road-safety-open-dataset-data-guide-2023.xlsx')\n",
    "dict"
   ]
  },
  {
   "cell_type": "code",
   "execution_count": 7,
   "id": "06c81066-352a-4df9-9f04-636911a36f98",
   "metadata": {},
   "outputs": [
    {
     "name": "stdout",
     "output_type": "stream",
     "text": [
      "3 rows of data were loaded into table:accident_severity\n",
      "8 rows of data were loaded into table:road_type\n",
      "10 rows of data were loaded into table:weather_conditions\n",
      "3 rows of data were loaded into table:casualty_class\n",
      "4 rows of data were loaded into table:sex_of_casualty\n",
      "12 rows of data were loaded into table:age_band_of_casualty\n",
      "3 rows of data were loaded into table:casualty_severity\n",
      "30 rows of data were loaded into table:vehicle_type\n",
      "4 rows of data were loaded into table:sex_of_driver\n",
      "12 rows of data were loaded into table:age_band_of_driver\n"
     ]
    }
   ],
   "source": [
    "for table,fields in dimentions.items():\n",
    "    for dim in fields:\n",
    "        dm=dict.loc[(dict['table']==table) & (dict['field name']==dim),['code/format','label']]\n",
    "        dm.rename(columns={'code/format':'id','label':'name'},inplace=True)\n",
    "        cnt=dm.to_sql(dim,conn,if_exists='append',index=False)\n",
    "        print(f'{cnt} rows of data were loaded into table:{dim}')"
   ]
  },
  {
   "cell_type": "code",
   "execution_count": null,
   "id": "065c3b1c-a327-4c3b-8666-4143084a9a62",
   "metadata": {},
   "outputs": [
    {
     "name": "stdout",
     "output_type": "stream",
     "text": [
      "538461 rows of data were loaded into table:accident.\n",
      "693028 rows of data were loaded into table:casualty.\n"
     ]
    }
   ],
   "source": [
    "%%time\n",
    "for folder,fields in facts.items():  \n",
    "    data = pd.DataFrame([])\n",
    "    path=f'./data/{folder}/'\n",
    "    for filename in os.listdir(path):\n",
    "        df = pd.read_csv(path+filename, low_memory=False)\n",
    "        data = pd.concat([data, df[fields]]) \n",
    "    if 'date' in fields:\n",
    "        data['date']=data['date'].apply(lambda x:datetime.strptime(x, '%d/%m/%Y').date())\n",
    "    data.to_sql(folder.lower(),conn,if_exists='append',index=False)\n",
    "    print(f'{data.shape[0]} rows of data were loaded into table:{folder.lower()}.')"
   ]
  },
  {
   "cell_type": "code",
   "execution_count": null,
   "id": "111c696b-fa79-4b2b-b8bd-a093cfc80767",
   "metadata": {},
   "outputs": [],
   "source": [
    "conn.close()\n",
    "engine.dispose()"
   ]
  },
  {
   "cell_type": "code",
   "execution_count": null,
   "id": "130bd662-5ab0-43a8-a400-c06eb21f501c",
   "metadata": {},
   "outputs": [],
   "source": []
  }
 ],
 "metadata": {
  "kernelspec": {
   "display_name": "Python 3 (ipykernel)",
   "language": "python",
   "name": "python3"
  },
  "language_info": {
   "codemirror_mode": {
    "name": "ipython",
    "version": 3
   },
   "file_extension": ".py",
   "mimetype": "text/x-python",
   "name": "python",
   "nbconvert_exporter": "python",
   "pygments_lexer": "ipython3",
   "version": "3.11.8"
  },
  "widgets": {
   "application/vnd.jupyter.widget-state+json": {
    "state": {},
    "version_major": 2,
    "version_minor": 0
   }
  }
 },
 "nbformat": 4,
 "nbformat_minor": 5
}
